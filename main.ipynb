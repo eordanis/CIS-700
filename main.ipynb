{
  "nbformat": 4,
  "nbformat_minor": 0,
  "metadata": {
    "kernelspec": {
      "display_name": "Python 3",
      "language": "python",
      "name": "python3"
    },
    "language_info": {
      "codemirror_mode": {
        "name": "ipython",
        "version": 2
      },
      "file_extension": ".py",
      "mimetype": "text/x-python",
      "name": "python",
      "nbconvert_exporter": "python",
      "pygments_lexer": "ipython2",
      "version": "2.7.6"
    },
    "colab": {
      "name": "main.ipynb",
      "provenance": [],
      "collapsed_sections": [
        "jYknSMAkQsns",
        "dZQXB5V2Qsnt",
        "l8dzmnc8IlQG"
      ],
      "toc_visible": true
    },
    "accelerator": "GPU"
  },
  "cells": [
    {
      "cell_type": "markdown",
      "metadata": {
        "collapsed": false,
        "id": "_RTasmaUQsnX"
      },
      "source": [
        "# Milestone2\n",
        "\n",
        "Stephanie Eordanidis.\n",
        "Ravjot Sachdev,\n",
        "Jackson Taber\n",
        "\n",
        "Syracuse University : College of Engineering & Computer Science\n",
        "\n",
        "223 Link Hall, Syracuse, NY 13244\n",
        "\n",
        "sleordan@syr.edu, rssachde@syr.edu, jrtaber@syr.edu\n",
        "\n",
        "CIS 700 Machine Learning and Security\n",
        "\n",
        "05/12/2021\n"
      ]
    },
    {
      "cell_type": "markdown",
      "metadata": {
        "collapsed": false,
        "id": "2saP1Da3Qsnf"
      },
      "source": [
        "## Theme:\n",
        " “Adversarial Text Generation: Adversarial Machine Learning Applications in Text Analysis”"
      ]
    },
    {
      "cell_type": "markdown",
      "metadata": {
        "collapsed": false,
        "id": "M443L_l7Qsng"
      },
      "source": [
        "## Purpose:\n",
        "The purpose of this lab is to add three new GAN models to the project space and successfully run them on the chosen dataset to generate synthetic data using an existing GAN project framework."
      ]
    },
    {
      "cell_type": "markdown",
      "metadata": {
        "collapsed": false,
        "id": "Bsrl-QKhQsnh"
      },
      "source": [
        "## Project:\n",
        "Texygen is the name of the project selected. This project is a benchmarking tool that aids in text generation model research and testing. This tool allows for ease of various model testing to compare accuracy and synthetic data generation of models using same training baseline."
      ]
    },
    {
      "cell_type": "markdown",
      "metadata": {
        "collapsed": false,
        "id": "YmXaOJ8AQsni"
      },
      "source": [
        "## (Hard/Soft)ware:\n",
        "**Google Colaboratory**\t\thttps://colab.research.google.com/\n",
        "\n",
        "**GPU**                     Python 3 Google Compute Engine backend\n",
        "\n",
        "**Github**                  https://github.com/eordanis/CIS-700/"
      ]
    },
    {
      "cell_type": "markdown",
      "metadata": {
        "collapsed": false,
        "id": "QGtxblBCQsni"
      },
      "source": [
        "## Resources:\n",
        "**Original Source:** \t\thttps://github.com/geek-ai/Texygen\n",
        "\n",
        "**Modified Sources Acquired:** \t2SU Course Files Section -> Texygenmaster_Python_3.6.zip"
      ]
    },
    {
      "cell_type": "markdown",
      "metadata": {
        "collapsed": false,
        "id": "kolVF4c9Qsnj"
      },
      "source": [
        "## Data:\n",
        "The data for the selected project is setup as follows:\n",
        "\n",
        "•\tGenerated data training: 5000 word and 20 sentence count\n",
        "\n",
        "•\tOracle data generation: 10,000 sentence generation\n",
        "\n",
        "•\tReal data training:\n",
        "\n",
        "\n",
        "*   image_coco : 20,000 sentences chosen from the image\n",
        " *   COCO captions data. 10,000 of which are used as training set while other 10,000 used as test set\n",
        "\n",
        "*   eapoe : 266 sentences\n",
        " *  eapoe : 266 sentences Compiled from various Edgar Allan Po Poems found on referenced poem sight  [4]."
      ]
    },
    {
      "cell_type": "markdown",
      "metadata": {
        "collapsed": false,
        "id": "tnT5EoDoQsnk"
      },
      "source": [
        "## Modifications:\n",
        " To begin, the modified source code acquired from the 2SU application was further modified to combine the original intention of the origin source authors as well as professor modification. If no arguments are passed, all models/data are run.\n",
        " > **Note**: The order or model generation is done by first iterating over the GAN model type, then data type. If arguments are passed, those arguments will be validated and run accordingly to run a more targeted model test.\n",
        "\n",
        " Modifications were applied to eliminate much library warnings and informational messages as to keep output as clean as possible. File path naming was updated to be compliant with Google Colaboratory environment. All epoch time elapse console printing has been commented out for cleaner output reading.\n",
        "\n",
        " Additional modifications applied to this milestone were as follows:\n",
        " * Restructure of project for ease of use, updating of paths as needed\n",
        " * Redirect model output to the /save directory of the main project level instead of model level. Naming of output was also ensure to be unique\n",
        " * Three new GAN models were added to this project space\n",
        "\n"
      ]
    },
    {
      "cell_type": "markdown",
      "metadata": {
        "collapsed": false,
        "id": "BlSdA9AHQsnk"
      },
      "source": [
        "## Setup:\n",
        "Due to the heft of processor/gpu usage, it was deemed necessary to run the project in the Google Colaboratory. Original attempt to run was done via Pycharm IDE Professional Edition with Anaconda derived environments, however this proved too great of a strain on the accessible workstation."
      ]
    },
    {
      "cell_type": "markdown",
      "metadata": {
        "collapsed": false,
        "id": "s8H8-PlvQsnk"
      },
      "source": [
        "### Step 1\n",
        "A new Google Colaboratory workspace was setup, titled “Milestone2”. This workspace was run using the hosted runtime environment. This document is the current document being read.\n",
        "\n",
        "In order to run against provided code base, it was necessary to sync the colab workspace the github repository files as follows\n",
        "\n",
        "```\n",
        "!git clone https://$GITHUB_AUTH@github.com/eordanis/CIS-700/\n",
        "```\n",
        "\n",
        "Running this command from the first cell in the workbook syncs the drive to the github repo location of project location, as well as change to the necessary directory"
      ]
    },
    {
      "cell_type": "code",
      "metadata": {
        "pycharm": {
          "name": "#%%\n"
        },
        "id": "7jPNtvoeQsnl"
      },
      "source": [
        "!git clone https://$GITHUB_AUTH@github.com/eordanis/CIS-700/\n",
        "%cd CIS-700"
      ],
      "execution_count": null,
      "outputs": []
    },
    {
      "cell_type": "markdown",
      "metadata": {
        "collapsed": false,
        "id": "aJ-ge5jqQsno"
      },
      "source": [
        "### Step 2\n",
        "Now it was necessary to import and download any missing libraries the hosted colaborartoy runtime did not have readily available via the following commands:\n",
        "```\n",
        "            !pip install -r \"requirements.txt\"\n",
        "            import nltk\n",
        "            nltk.download('punkt')\n",
        "```\n",
        "Running this command from the next cell in the workbook installed the necessary libraries and at specified versions for the project.\n"
      ]
    },
    {
      "cell_type": "code",
      "metadata": {
        "pycharm": {
          "name": "#%%\n"
        },
        "id": "MO2DlrxDQsno"
      },
      "source": [
        "!pip install -r \"requirements.txt\"\n",
        "import nltk\n",
        "nltk.download('punkt')"
      ],
      "execution_count": null,
      "outputs": []
    },
    {
      "cell_type": "markdown",
      "metadata": {
        "collapsed": false,
        "id": "-Rp_zaP5Qsnp"
      },
      "source": [
        "### Step 3\n",
        "Now it is time to run the application. Below are two examples of commands to run the application.\n",
        "```\n",
        "!python3 \"main.py\"\n",
        "```\n",
        "This first command was run without parameters. In the case of this command, all trainings (SeqGAN, Gsgan, TextganMmd, Leakgan, Rankgan, Maligan, Mle) were run on all available defaulted training data (oracle LSTM, real data, CFG). Running this command can take around 2+ hours to complete.\n",
        "\n",
        "```\n",
        "!python3 \"main.py\" -g seqgan -t real\n",
        "```\n",
        "\n",
        "This second command was run with parameters. In the case of this command, main was run with SeqGAN training on image_coco. Running targeted trainings take less time to run, on average completing in 5-15 minutes depending on selected parameters. With the above selection, runtime was run above 10 minutes.\n",
        "\n",
        "```\n",
        "!python3 \"main.py\" -g seqgan -t real  -d data/eapoe.txt\n",
        "```\n",
        "\n",
        "This third command was run with parameters. In the case of this command, main was run with SeqGAN training on eapoe. Running targeted trainings take less time to run, on average completing in 5-15 minutes depending on selected parameters. With the above selection, runtime was run above 10 minutes.\n",
        "\n",
        "> **NOTE:** For above estimates, based around 5 epochs. Additionally, CFG training appears to have stopped working suddenly, unsure why broken. Therefore running without that option for the time being. Additionally, the LeakGan model failed entirely to run now due to flag errors, so this model was discarded from testing.\n"
      ]
    },
    {
      "cell_type": "markdown",
      "metadata": {
        "collapsed": false,
        "id": "f9iJu3UIQsnp"
      },
      "source": [
        "## Process\n",
        "\n",
        "When running the various models, there are similar steps for each.\n",
        "1.\tBeginning Training – begin model training(s)\n",
        "2.\tSet training - sets the desired model training method\n",
        "3.\tStart model pre-train generator – uses the training data to pre-train the generator model\n",
        "4.\tStart model pre-train discriminator - – uses the training data to pre-train the discriminator model\n",
        "5.\tModel adversarial training – runs the model to generate results based on the test data and metrics applied\n",
        "6.\tFinish Training – end of model training(s)\n",
        "\n",
        "During training, each model training runs through several passes or epochs. For simplicity, base epoch is set to 5, with model training running thrice for 15 total epochs there abouts for each model trained on a particular data set.\n"
      ]
    },
    {
      "cell_type": "markdown",
      "metadata": {
        "collapsed": false,
        "id": "Olz1GYmaQsnp"
      },
      "source": [
        "## Metrics\n",
        "\n",
        "**Abbreviations:**\n",
        "*   BLEU \t- BiLingual Evaluation Understudy\n",
        "*   GAN \t- Generative Adversarial Network\n",
        "*   NLL \t- Negative Log-Likelihood\n",
        "*   RL\t- Reinforcement Learning\n",
        "\n",
        "**Definitions**\n",
        "*   EmbSim – influenced by BLEU, used instead to compare the word embeddings vs BLEU’s comparison of word similarity between two sentences or documents.\n",
        "*   NLL-oracle : applied to synthetic data to determine fitting via oracle language model standards.\n",
        "*   NLL-test : dual to NLL-Oracle, used to determine a model’s capability to fit to real test data\n",
        "\n",
        "These measurement standards and more are discussed in the project directory’s “/docs/evaluation.md” location.\n"
      ]
    },
    {
      "cell_type": "markdown",
      "metadata": {
        "collapsed": false,
        "id": "wbTurK39Qsnq"
      },
      "source": [
        "## Baseline Models\n",
        "\n",
        " For this report, the TextGAN and SeqGAN models were run on oracle and real training types in the previous project milestone and will be used as the baseline for new model comparisons. The real training types essentially runs the data against the image_coco.txt caption data. The TextGAN and SeqGAN was developed by the source project team to improve on existing GAN networks.\n",
        "\n",
        " With regards to TextGan, the goal of this model is to generate high quality realistic synthetic data while overcoming the convergence dilemma by using a generator that runs as a long short-term memory network and its discriminator a convolutional network. By matching high-dimension laten feature distributions of the testing and training data, this model over longer epochs has shown demonstrate a higher performance in quantitative evaluation, showing the TextGAN model can produce sentences that appear to have been written by a human, and not AI generated.\n",
        "\n",
        " For the SeqGAN model, this also proved successful in generating realistic looking sentences via this generator process. A second model was selected for comparison purposes. SeqGAN’s generator is based off the reinforcement learning stochastic policy, allowing SeqGAN to performing gradient policy update in order to circumvent differentiation issues in the generation. Its discriminator is run on complete sentences, and its results used as the reinforcement learning reward signal. According to source authors, this model boasted higher performance over others run."
      ]
    },
    {
      "cell_type": "markdown",
      "metadata": {
        "collapsed": false,
        "id": "a5Us2aDIIlQC"
      },
      "source": [
        "## New Models\n",
        "\n",
        "### **CGAN** - Conditional Generative Adversarial Network\n",
        "\n",
        "Conditional adversarial network, or CGAN for short, is a basic modification of GAN that simply adds an additional layer that conditions both the descriminator and generator model layers. For this labs purposes, an existing GAN model was used as the base, and in both the Generator and Discriminator an embedded layer was incorporated as the first layer, used as the conditioning layer. For the sake of specificity, this GAN could actually be considered an CGSGAN, however for simplicity we will refer to is as simply CGAN.\n",
        "\n",
        "### **INFOGAN**\n",
        "\n",
        "### **LSGAN**\n",
        "\n"
      ]
    },
    {
      "cell_type": "markdown",
      "metadata": {
        "collapsed": false,
        "id": "KkTxDWRTQsnq"
      },
      "source": [
        "## Testing\n",
        "\n",
        " Epochs were increased left to run at 5 for the sake of time. However, it is noted that as according to original project sourcing, >= 45 epochs for the models display the best NLL loss results on epochs > 40, prior to that point results would be poorer. NLL loss values are indicated to be better the lower they are, so if these values trend downward, the models are improving. For EmbeddedSimilarity, higher values are desired for better results."
      ]
    },
    {
      "cell_type": "markdown",
      "metadata": {
        "collapsed": false,
        "id": "IQQn8V-8Qsnq"
      },
      "source": [
        "### CGAN\n",
        "The following commands are to run CGAN model on both oracle and real trainings.\n",
        "\n",
        "**NOTE:** The real data essentially trained the model on the eapoe.txt data.\n",
        "```\n",
        "!python3 \"main.py\" -g cgan -t oracle\n",
        "!python3 \"main.py\" -g cgan -t real\n",
        "```"
      ]
    },
    {
      "cell_type": "code",
      "metadata": {
        "pycharm": {
          "name": "#%%\n"
        },
        "id": "p0dEpH0EQsnr",
        "colab": {
          "base_uri": "https://localhost:8080/"
        },
        "outputId": "c7ce72bb-cf69-4213-8ff0-58d8742ed501"
      },
      "source": [
        "!python3 \"main.py\" -g cgan -t oracle"
      ],
      "execution_count": null,
      "outputs": [
        {
          "output_type": "stream",
          "text": [
            "******** Beginning Training ********\n",
            "set training\n",
            "oracle\n",
            "start pre-train generator:\n",
            "nll-oracle\n",
            "nll-test\n",
            "EmbeddingSimilarity\n",
            "nll-oracle\n",
            "nll-test\n",
            "EmbeddingSimilarity\n",
            "epoch:1\tnll-oracle:10.365934\tnll-test:7.9890027\tEmbeddingSimilarity:-0.13264132064913894\t\n",
            "start pre-train discriminator:\n",
            "adversarial training:\n",
            "nll-oracle\n",
            "nll-test\n",
            "EmbeddingSimilarity\n",
            "epoch:6\tnll-oracle:14.836451\tnll-test:7.8124366\tEmbeddingSimilarity:-0.12899664793612048\t\n",
            "nll-oracle\n",
            "nll-test\n",
            "EmbeddingSimilarity\n",
            "epoch:10\tnll-oracle:9.709798\tnll-test:8.105871\tEmbeddingSimilarity:-0.13109438098499476\t\n",
            "******** Completed Training ********\n",
            "\n"
          ],
          "name": "stdout"
        }
      ]
    },
    {
      "cell_type": "markdown",
      "metadata": {
        "collapsed": false,
        "id": "cvjMNcBLQsnr"
      },
      "source": [
        "####Oracle Output\n",
        "As we can see from the output above, over several loopthroughs, or epochs, the accuracy of the nll oracle and test values varied but appeared to having an upward trend in accuracy over epoch runs when running CGAN with oracle training. However, it is noted the embedded fell over time during the runs.\n",
        "For training, it would yield better results to run higher epochs, such as 40, however for testing sake only 5 were run.\n",
        "\n",
        "**Best Values**\n",
        "\n",
        "*   NLL-oracle:             9.709798               @epoch 10\n",
        "*   NLL-test:               7.8124366              @epoch 6\n",
        "*   EmbeddingSimilarity:    0.12899664793612       @epoch 6"
      ]
    },
    {
      "cell_type": "code",
      "metadata": {
        "pycharm": {
          "name": "#%%\n"
        },
        "id": "7Hn4zHOuQsnr",
        "colab": {
          "base_uri": "https://localhost:8080/"
        },
        "outputId": "f22e2ef4-5c3c-4eb0-93b3-e3e53c98f240"
      },
      "source": [
        "!python3 \"main.py\" -g cgan -t real -d data/eapoe.txt"
      ],
      "execution_count": null,
      "outputs": [
        {
          "output_type": "stream",
          "text": [
            "******** Beginning Training ********\n",
            "set training\n",
            "real\n",
            "start pre-train generator:\n",
            "EmbeddingSimilarity\n",
            "nll-test\n",
            "EmbeddingSimilarity\n",
            "nll-test\n",
            "epoch:1\tEmbeddingSimilarity:-0.3257110872329447\tnll-test:6.7118287\t\n",
            "start pre-train discriminator:\n",
            "adversarial training:\n",
            "EmbeddingSimilarity\n",
            "nll-test\n",
            "epoch:6\tEmbeddingSimilarity:-0.31586988051879566\tnll-test:6.359037\t\n",
            "EmbeddingSimilarity\n",
            "nll-test\n",
            "epoch:10\tEmbeddingSimilarity:-0.08581189503085304\tnll-test:7.1510878\t\n",
            "******** Completed Training ********\n",
            "\n"
          ],
          "name": "stdout"
        }
      ]
    },
    {
      "cell_type": "markdown",
      "metadata": {
        "collapsed": false,
        "id": "ecR1k-ptQsns"
      },
      "source": [
        "####Real Output\n",
        "As we can see from the output above, over several loopthroughs, or epochs, the accuracy of the nll values are also increase when running CGAN with real training. However, it is noted the embedded similarity fell over the course of the run. This indicates to us that the test_text.txt data generated should have closer similarity to the original eapoe.txt data file used to train the models.\n",
        "\n",
        "For training, it would yield better results to run higher epochs, such as 40, however for testing sake only 5 were run.\n",
        "\n",
        "**Best Values**\n",
        "\n",
        "*   NLL-test:                6.359037              @epoch 6\n",
        "*   EmbeddingSimilarity:    -0.085812              @epoch 10"
      ]
    },
    {
      "cell_type": "markdown",
      "metadata": {
        "collapsed": false,
        "id": "jYknSMAkQsns"
      },
      "source": [
        "### INFOGAN\n",
        "The following commands are to run INFOGAN model on both oracle and real trainings.\n",
        "\n",
        "> **NOTE:** The real data essentially trained the model on the eapoe.txt data.\n",
        "```\n",
        "!python3 \"main.py\" -g infogan -t oracle\n",
        "!python3 \"main.py\" -g infogan -t real\n",
        "```"
      ]
    },
    {
      "cell_type": "code",
      "metadata": {
        "pycharm": {
          "name": "#%%\n"
        },
        "id": "8XK9faFoQsnt"
      },
      "source": [
        "!python3 \"main.py\" -g infogan -t oracle"
      ],
      "execution_count": null,
      "outputs": []
    },
    {
      "cell_type": "markdown",
      "metadata": {
        "collapsed": false,
        "id": "dZQXB5V2Qsnt"
      },
      "source": [
        "#### Oracle Output\n",
        "As we can see from the output above, over several loopthroughs, or epochs, the accuracy of the nll oracle and test values varied but leaned toward improvment when running INFOGAN with oracle training. Additionally, it is noted the embedded similarity is improving as well.\n",
        "\n",
        "For training, it would yield better results to run higher epochs, such as 40, however for testing sake only 5 were run.\n",
        "\n",
        "**Best Values**\n",
        "\n",
        "*   NLL-oracle:             10.114458             @epoch 10\n",
        "*   NLL-test:               7.031317              @epoch 6\n",
        "*   EmbeddingSimilarity:    -0.207636699321102    @epoch 10"
      ]
    },
    {
      "cell_type": "code",
      "metadata": {
        "pycharm": {
          "name": "#%%\n"
        },
        "id": "AvEehdQSQsnt"
      },
      "source": [
        "!python3 \"main.py\" -g 2_GAN -t real -d data/eapoe.txt"
      ],
      "execution_count": null,
      "outputs": []
    },
    {
      "cell_type": "markdown",
      "metadata": {
        "collapsed": false,
        "id": "HTEmkScQQsnt"
      },
      "source": [
        "#### Real Output\n",
        "As we can see from the output above, over several loopthroughs, or epochs, the accuracy of the nll values are also increase when running INFOGAN with real training. Additionally, it is noted the embedded similarity is improving as well. This indicates to us that the test_text.txt data generated should have closer similarity to the original eapoe.txt data file used to train the models.\n",
        "\n",
        "For training, it would yield better results to run higher epochs, such as 40, however for testing sake only 5 were run.\n",
        "\n",
        "\n",
        "**Best Values**\n",
        "\n",
        "*   NLL-test:               3.4653516\t           @epoch 10\n",
        "*   EmbeddingSimilarity:    0.510576256396731  @epoch 10"
      ]
    },
    {
      "cell_type": "markdown",
      "metadata": {
        "collapsed": false,
        "id": "l8dzmnc8IlQG"
      },
      "source": [
        "### LSGAN\n",
        "The following commands are to run LSGAN model on both oracle and real trainings.\n",
        "\n",
        "> **NOTE:** The real data essentially trained the model on the eapoe.txt data.\n",
        "```\n",
        "!python3 \"main.py\" -g lsgan -t oracle\n",
        "!python3 \"main.py\" -g lsgan -t real\n",
        "```"
      ]
    },
    {
      "cell_type": "code",
      "metadata": {
        "pycharm": {
          "name": "#%%\n"
        },
        "id": "8QFnuHB7IlQG"
      },
      "source": [
        "!python3 \"main.py\" -g lsgan -t oracle"
      ],
      "execution_count": null,
      "outputs": []
    },
    {
      "cell_type": "markdown",
      "metadata": {
        "collapsed": false,
        "id": "hsF9XI26IlQG"
      },
      "source": [
        "#### Oracle Output\n",
        "As we can see from the output above, over several loopthroughs, or epochs, the accuracy of the nll oracle and test values varied but leaned toward improvment when running LSGAN with oracle training. Additionally, it is noted the embedded similarity is improving as well.\n",
        "\n",
        "For training, it would yield better results to run higher epochs, such as 40, however for testing sake only 5 were run.\n",
        "\n",
        "**Best Values**\n",
        "\n",
        "*   NLL-oracle:             10.114458             @epoch 10\n",
        "*   NLL-test:               7.031317              @epoch 6\n",
        "*   EmbeddingSimilarity:    -0.207636699321102    @epoch 10"
      ]
    },
    {
      "cell_type": "code",
      "metadata": {
        "pycharm": {
          "name": "#%%\n"
        },
        "id": "pL13US0yIlQG"
      },
      "source": [
        "!python3 \"main.py\" -g lsgan -t real -d data/eapoe.txt"
      ],
      "execution_count": null,
      "outputs": []
    },
    {
      "cell_type": "markdown",
      "metadata": {
        "collapsed": false,
        "id": "Me3Ufhn9IlQH"
      },
      "source": [
        "#### Real Output\n",
        "As we can see from the output above, over several loopthroughs, or epochs, the accuracy of the nll values are also increase when running LSGAN with real training. Additionally, it is noted the embedded similarity is improving as well. This indicates to us that the test_text.txt data generated should have closer similarity to the original eapoe.txt data file used to train the models.\n",
        "\n",
        "For training, it would yield better results to run higher epochs, such as 40, however for testing sake only 5 were run.\n",
        "\n",
        "\n",
        "**Best Values**\n",
        "\n",
        "*   NLL-test:               3.4653516\t           @epoch 10\n",
        "*   EmbeddingSimilarity:    0.510576256396731  @epoch 10"
      ]
    },
    {
      "cell_type": "markdown",
      "metadata": {
        "collapsed": false,
        "id": "2szMid1RQsnu"
      },
      "source": [
        "### Data Comparision\n",
        "\n",
        "#### Oracle Data\n",
        " When comparing oracle data metrics between the two models baseline modes and three newly implemented models, the results are as follows:\n",
        "\n",
        "**TextGAN Best Values**\n",
        "\n",
        "*   NLL-oracle:             11.898141             @epoch 10\n",
        "*   NLL-test:               36.785576             @epoch 6\n",
        "*   EmbeddingSimilarity:    -0.198190311710986    @epoch 1\n",
        "\n",
        "**SeqGAN Best Values**\n",
        "\n",
        "*   NLL-oracle:             10.114458             @epoch 10\n",
        "*   NLL-test:               7.031317              @epoch 6\n",
        "*   EmbeddingSimilarity:    -0.207636699321102    @epoch 10\n",
        "\n",
        "**CGAN Best Values**\n",
        "\n",
        "*   NLL-oracle:             9.709798             @epoch 10\n",
        "*   NLL-test:               7.8124366              @epoch 6\n",
        "*   EmbeddingSimilarity:    0.12899664793612       @epoch 6\n",
        "\n",
        "**INFOGAN Best Values**\n",
        "\n",
        "*   NLL-oracle:             10.114458             @epoch 10\n",
        "*   NLL-test:               7.031317              @epoch 6\n",
        "*   EmbeddingSimilarity:    -0.207636699321102    @epoch 10\n",
        "\n",
        "**LSGAN Best Values**\n",
        "\n",
        "*   NLL-oracle:             10.114458             @epoch 10\n",
        "*   NLL-test:               7.031317              @epoch 6\n",
        "*   EmbeddingSimilarity:    -0.207636699321102    @epoch 10\n",
        "\n",
        "#### Real Data\n",
        "When comparing real data metrics between the two models baseline modes and three newly implemented models, the results are as follows:\n",
        "\n",
        "**TextGAN Best Values**\n",
        "\n",
        "*   NLL-test:               37.6404             @epoch 10\n",
        "*   EmbeddingSimilarity:    -0.369170747866734  @epoch 1\n",
        "\n",
        "**SeqGAN Best Values**\n",
        "\n",
        "*   NLL-test:               3.4653516\t           @epoch 10\n",
        "*   EmbeddingSimilarity:    0.510576256396731  @epoch 10\n",
        "\n",
        "**CGAN Best Values**\n",
        "\n",
        "*   NLL-test:                6.359037              @epoch 6\n",
        "*   EmbeddingSimilarity:    -0.085812              @epoch 10\n",
        "\n",
        "**INFOGAN Best Values**\n",
        "\n",
        "*   NLL-test:               7.031317              @epoch 6\n",
        "*   EmbeddingSimilarity:    -0.207636699321102    @epoch 10\n",
        "\n",
        "**LSGAN Best Values**\n",
        "\n",
        "*   NLL-test:               7.031317              @epoch 6\n",
        "*   EmbeddingSimilarity:    -0.207636699321102    @epoch 10\n",
        "\n",
        "Here we will take a look at the first 15 lines of the real data files, both training/test [eapoe.txt / test_eapoe.txt] and synthetic data generation from the model labeled test_file.txt"
      ]
    },
    {
      "cell_type": "markdown",
      "metadata": {
        "collapsed": false,
        "id": "redoZwxfIlQH"
      },
      "source": [
        "#### Visual Representation\n",
        "This sections provides a more visual representation of results and comparative data"
      ]
    },
    {
      "cell_type": "code",
      "metadata": {
        "pycharm": {
          "name": "#%%\n"
        },
        "id": "t7dpMT4MIlQH"
      },
      "source": [
        "import pandas as pd\n",
        "from IPython.display import display_html\n",
        "import matplotlib.pyplot as plt\n",
        "\n",
        "# METRIC DATA PREP\n",
        "\n",
        "# prep the metric dataframes\n",
        "oracle_sg = pd.read_csv ('results/experiment-log-seqgan.csv').iloc[:, : 4]\n",
        "oracle_tg = pd.read_csv ('results/experiment-log-textgan.csv').iloc[:, : 4]\n",
        "oracle_cg = pd.read_csv ('results/experiment-log-cgan.csv').iloc[:, : 4]\n",
        "#oracle_ig = pd.read_csv ('results/experiment-log-infogan.csv').iloc[:, : 4]\n",
        "#oracle_lg = pd.read_csv ('results/experiment-log-lsgan.csv').iloc[:, : 4]\n",
        "real_sg = pd.read_csv ('results/experiment-log-seqgan-real.csv').iloc[:, : 3]\n",
        "real_tg = pd.read_csv ('results/experiment-log-textgan-real.csv').iloc[:, : 3]\n",
        "real_cg = pd.read_csv ('results/experiment-log-cgan-real.csv').iloc[:, : 3]\n",
        "#real_ig = pd.read_csv ('results/experiment-log-infogan-real.csv').iloc[:, : 3]\n",
        "#real_lg = pd.read_csv ('results/experiment-log-lsgan-real.csv').iloc[:, : 3]\n",
        "\n",
        "# prep the synthetic text dataframes\n",
        "seqgan_data = pd.read_csv('results/seqgan_test_file.txt', sep=\"\\n\", header=None)\n",
        "seqgan_data.columns = [\"SeqGAN Synth Data\"]\n",
        "textgan_data = pd.read_csv('results/textgan_test_file.txt', sep=\"\\n\", header=None)\n",
        "textgan_data.columns = [\"TextGAN Synth Data\"]\n",
        "cgan_data = pd.read_csv('results/test_file_cgan.txt', sep=\"\\n\", header=None)\n",
        "cgan_data.columns = [\"CGAN Synth Data\"]\n",
        "#infogan_data = pd.read_csv('results/test_file_infogan.txt', sep=\"\\n\", header=None)\n",
        "#infogan_data.columns = [\"INFOGAN Synth Data\"]\n",
        "#lsgan_data = pd.read_csv('results/test_file_lsgan.txt', sep=\"\\n\", header=None)\n",
        "#lsgan_data.columns = [\"LSGAN Synth Data\"]\n",
        "\n",
        "# style synth data for inline display\n",
        "df1_styler = seqgan_data.head(5).style.set_table_attributes(\"style='display:inline'\")\n",
        "df2_styler = textgan_data.head(5).style.set_table_attributes(\"style='display:inline'\")\n",
        "df3_styler = cgan_data.head(5).style.set_table_attributes(\"style='display:inline'\")\n",
        "#df4_styler = infogan_data.head(5).style.set_table_attributes(\"style='display:inline'\")\n",
        "#df5_styler = lsgan_data.head(5).style.set_table_attributes(\"style='display:inline'\")\n",
        "\n",
        "hrule = '<hr style=\"width: 900px; margin-left:0;\">'\n",
        "container = df1_styler._repr_html_() + hrule + df2_styler._repr_html_() + hrule + df3_styler._repr_html_();\n",
        "\n",
        "\n",
        "# METRIC PLOT SETUP\n",
        "\n",
        "# Create new dataframe to represent Oracle EmbeddingSimilarity across all models\n",
        "oracle_embed = pd.DataFrame({'Epoch': [1,6,10],\n",
        "        'SeqGan': oracle_sg['EmbeddingSimilarity'],\n",
        "        'TextGan': oracle_tg['EmbeddingSimilarity'],\n",
        "        'CGan': oracle_cg['EmbeddingSimilarity'],\n",
        "        #'INFOGAN': oracle_ig['EmbeddingSimilarity'],\n",
        "        #'LSGAN': oracle_lg['EmbeddingSimilarity'],\n",
        "        })\n",
        "\n",
        "# Create new dataframe to represent Oracle nll-oracle across all models\n",
        "oracle_nll_orc = pd.DataFrame({'Epoch': [1,6,10],\n",
        "        'SeqGan': oracle_sg['nll-oracle'],\n",
        "        'TextGan': oracle_tg['nll-oracle'],\n",
        "        'CGan': oracle_cg[' nll-oracle'],\n",
        "        #'INFOGAN': oracle_ig['nll-oracle'],\n",
        "        #'LSGAN': oracle_lg['nll-oracle'],\n",
        "        })\n",
        "\n",
        "# Create new dataframe to represent Oracle nll-test across all models\n",
        "oracle_nll_test = pd.DataFrame({'Epoch': [1,6,10],\n",
        "        'SeqGan': oracle_sg['nll-test'],\n",
        "        'TextGan': oracle_tg['nll-test'],\n",
        "        'CGan': oracle_cg['nll-test'],\n",
        "        #'INFOGAN': oracle_ig['nll-test'],\n",
        "        #'LSGAN': oracle_lg['nll-test'],\n",
        "        })\n",
        "\n",
        "# Create new dataframe to represent Real EmbeddingSimilarity across all models\n",
        "real_embed = pd.DataFrame({'Epoch': [1,6,10],\n",
        "        'SeqGan': real_sg[' EmbeddingSimilarity'],\n",
        "        'TextGan': real_tg['EmbeddingSimilarity'],\n",
        "        'CGan': real_cg[' EmbeddingSimilarity'],\n",
        "        #'INFOGAN': v_ig['EmbeddingSimilarity'],\n",
        "        #'LSGAN': real_lg['EmbeddingSimilarity'],\n",
        "        })\n",
        "\n",
        "# Create new dataframe to represent Real nll-test across all models\n",
        "real_nll_test = pd.DataFrame({'Epoch': [1,6,10],\n",
        "        'SeqGan': real_sg['nll-test'],\n",
        "        'TextGan': real_tg['nll-test'],\n",
        "        'CGan': real_cg['nll-test'],\n",
        "        #'INFOGAN': real_ig['nll-test'],\n",
        "        #'LSGAN': real_lg['nll-test'],\n",
        "        })\n",
        "\n",
        "#define number of rows and columns for subplots\n",
        "nrow=3\n",
        "ncol=2\n",
        "# make a list of all dataframes \n",
        "df_list = [oracle_embed, oracle_nll_orc, oracle_nll_test, real_embed, real_nll_test]\n",
        "df_title_list = ['Oracle EmbeddingSimilarites','Oracle NLL-Oracle', 'Oracle NLL-Test', 'Real EmbeddingSimilarites', 'Real NLL-Test']\n",
        "# plot counter\n",
        "count=0\n"
      ],
      "execution_count": 62,
      "outputs": []
    },
    {
      "cell_type": "code",
      "metadata": {
        "colab": {
          "base_uri": "https://localhost:8080/",
          "height": 433
        },
        "id": "WesgrwLAJSOJ",
        "outputId": "e04c6838-62f2-4012-bdc8-84012362e0fa"
      },
      "source": [
        "display_html(container, raw=True)"
      ],
      "execution_count": 64,
      "outputs": [
        {
          "output_type": "display_data",
          "data": {
            "text/html": [
              "<style  type=\"text/css\" >\n",
              "</style><table id=\"T_0f745556_b0c9_11eb_a285_0242ac1c0002\" style='display:inline'><thead>    <tr>        <th class=\"blank level0\" ></th>        <th class=\"col_heading level0 col0\" >SeqGAN Synth Data</th>    </tr></thead><tbody>\n",
              "                <tr>\n",
              "                        <th id=\"T_0f745556_b0c9_11eb_a285_0242ac1c0002level0_row0\" class=\"row_heading level0 row0\" >0</th>\n",
              "                        <td id=\"T_0f745556_b0c9_11eb_a285_0242ac1c0002row0_col0\" class=\"data row0 col0\" >nameless which sky stormy bore- explore heaven gently press louder lov his flirt , </td>\n",
              "            </tr>\n",
              "            <tr>\n",
              "                        <th id=\"T_0f745556_b0c9_11eb_a285_0242ac1c0002level0_row1\" class=\"row_heading level0 row1\" >1</th>\n",
              "                        <td id=\"T_0f745556_b0c9_11eb_a285_0242ac1c0002row1_col0\" class=\"data row1 col0\" >before- silence now press doubtless is quit made distant of chamber -- did and </td>\n",
              "            </tr>\n",
              "            <tr>\n",
              "                        <th id=\"T_0f745556_b0c9_11eb_a285_0242ac1c0002level0_row2\" class=\"row_heading level0 row2\" >2</th>\n",
              "                        <td id=\"T_0f745556_b0c9_11eb_a285_0242ac1c0002row2_col0\" class=\"data row2 col0\" >stock countenance black burning rustling throws explore lent he word of above sought by </td>\n",
              "            </tr>\n",
              "            <tr>\n",
              "                        <th id=\"T_0f745556_b0c9_11eb_a285_0242ac1c0002level0_row3\" class=\"row_heading level0 row3\" >3</th>\n",
              "                        <td id=\"T_0f745556_b0c9_11eb_a285_0242ac1c0002row3_col0\" class=\"data row3 col0\" >divining scarcely by him explore implore- countenance reclining is : dreary answer `` not </td>\n",
              "            </tr>\n",
              "            <tr>\n",
              "                        <th id=\"T_0f745556_b0c9_11eb_a285_0242ac1c0002level0_row4\" class=\"row_heading level0 row4\" >4</th>\n",
              "                        <td id=\"T_0f745556_b0c9_11eb_a285_0242ac1c0002row4_col0\" class=\"data row4 col0\" >off sinking but plume burned bust same thy fearing perfumed now countenance i `` me </td>\n",
              "            </tr>\n",
              "    </tbody></table><hr style=\"width: 900px; margin-left:0;\"><style  type=\"text/css\" >\n",
              "</style><table id=\"T_0f7479b4_b0c9_11eb_a285_0242ac1c0002\" style='display:inline'><thead>    <tr>        <th class=\"blank level0\" ></th>        <th class=\"col_heading level0 col0\" >TextGAN Synth Data</th>    </tr></thead><tbody>\n",
              "                <tr>\n",
              "                        <th id=\"T_0f7479b4_b0c9_11eb_a285_0242ac1c0002level0_row0\" class=\"row_heading level0 row0\" >0</th>\n",
              "                        <td id=\"T_0f7479b4_b0c9_11eb_a285_0242ac1c0002row0_col0\" class=\"data row0 col0\" >depth dirges dirges haunted- footfalls bust footfalls thee- followed stately footfalls footfalls yore- mortal louder footfalls footfalls cushion gently dirges gently dirges </td>\n",
              "            </tr>\n",
              "            <tr>\n",
              "                        <th id=\"T_0f7479b4_b0c9_11eb_a285_0242ac1c0002level0_row1\" class=\"row_heading level0 row1\" >1</th>\n",
              "                        <td id=\"T_0f7479b4_b0c9_11eb_a285_0242ac1c0002row1_col0\" class=\"data row1 col0\" >for lies curious denser curious cushion curious ember curious further denser ember grim ! ember burning sorrow- laden ! grave laden stately </td>\n",
              "            </tr>\n",
              "            <tr>\n",
              "                        <th id=\"T_0f7479b4_b0c9_11eb_a285_0242ac1c0002level0_row2\" class=\"row_heading level0 row2\" >2</th>\n",
              "                        <td id=\"T_0f7479b4_b0c9_11eb_a285_0242ac1c0002row2_col0\" class=\"data row2 col0\" >yore- whether footfalls yore- lies lies our sent echo sorrow- 't visitor ebony sorrow- plutonian plainly sorrow- bust 'never- sorrow- meaning- surcease </td>\n",
              "            </tr>\n",
              "            <tr>\n",
              "                        <th id=\"T_0f7479b4_b0c9_11eb_a285_0242ac1c0002level0_row3\" class=\"row_heading level0 row3\" >3</th>\n",
              "                        <td id=\"T_0f7479b4_b0c9_11eb_a285_0242ac1c0002row3_col0\" class=\"data row3 col0\" >silken shore- parting sent footfalls yore- curtain yore- gently yore- louder haunted- gently answer answer answer than utters lady for for for </td>\n",
              "            </tr>\n",
              "            <tr>\n",
              "                        <th id=\"T_0f7479b4_b0c9_11eb_a285_0242ac1c0002level0_row4\" class=\"row_heading level0 row4\" >4</th>\n",
              "                        <td id=\"T_0f7479b4_b0c9_11eb_a285_0242ac1c0002row4_col0\" class=\"data row4 col0\" >yore- him footfalls ebony above sorrow- been gently hesitating ember 'never- 'never- to hesitating lady autumn sorrow- ebony echo help grim ashore </td>\n",
              "            </tr>\n",
              "    </tbody></table><hr style=\"width: 900px; margin-left:0;\"><style  type=\"text/css\" >\n",
              "</style><table id=\"T_0f7495ac_b0c9_11eb_a285_0242ac1c0002\" style='display:inline'><thead>    <tr>        <th class=\"blank level0\" ></th>        <th class=\"col_heading level0 col0\" >CGAN Synth Data</th>    </tr></thead><tbody>\n",
              "                <tr>\n",
              "                        <th id=\"T_0f7495ac_b0c9_11eb_a285_0242ac1c0002level0_row0\" class=\"row_heading level0 row0\" >0</th>\n",
              "                        <td id=\"T_0f7495ac_b0c9_11eb_a285_0242ac1c0002row0_col0\" class=\"data row0 col0\" >shorn ; once shorn ; beguiling others each beguiling meant meant beguiling beguiling lady bust lies once uncertain forgotten 't shorn lady </td>\n",
              "            </tr>\n",
              "            <tr>\n",
              "                        <th id=\"T_0f7495ac_b0c9_11eb_a285_0242ac1c0002level0_row1\" class=\"row_heading level0 row1\" >1</th>\n",
              "                        <td id=\"T_0f7495ac_b0c9_11eb_a285_0242ac1c0002row1_col0\" class=\"data row1 col0\" >dying ; radiant radiant beguiling undaunted pondered wandering lady shorn bust reclining uncertain plainly lord lady 't bust shorn undaunted beguiling shorn </td>\n",
              "            </tr>\n",
              "            <tr>\n",
              "                        <th id=\"T_0f7495ac_b0c9_11eb_a285_0242ac1c0002level0_row2\" class=\"row_heading level0 row2\" >2</th>\n",
              "                        <td id=\"T_0f7495ac_b0c9_11eb_a285_0242ac1c0002row2_col0\" class=\"data row2 col0\" >lord 't shorn night radiant shorn nodded pallid shorn each lady shorn shorn at not not 't not radiant such uncertain beguiling </td>\n",
              "            </tr>\n",
              "            <tr>\n",
              "                        <th id=\"T_0f7495ac_b0c9_11eb_a285_0242ac1c0002level0_row3\" class=\"row_heading level0 row3\" >3</th>\n",
              "                        <td id=\"T_0f7495ac_b0c9_11eb_a285_0242ac1c0002row3_col0\" class=\"data row3 col0\" >uncertain shorn shorn beguiling beguiling shorn beguiling thing shorn doubtless lady shorn 't at shorn shorn undaunted shorn each over lord shorn </td>\n",
              "            </tr>\n",
              "            <tr>\n",
              "                        <th id=\"T_0f7495ac_b0c9_11eb_a285_0242ac1c0002level0_row4\" class=\"row_heading level0 row4\" >4</th>\n",
              "                        <td id=\"T_0f7495ac_b0c9_11eb_a285_0242ac1c0002row4_col0\" class=\"data row4 col0\" >depth undaunted radiant each shorn night lady such radiant wandering shorn shorn tell shorn lady others shorn one ; shorn shorn shorn </td>\n",
              "            </tr>\n",
              "    </tbody></table>"
            ]
          },
          "metadata": {
            "tags": []
          }
        }
      ]
    },
    {
      "cell_type": "code",
      "metadata": {
        "id": "DB0rVh94Skix",
        "colab": {
          "base_uri": "https://localhost:8080/",
          "height": 621
        },
        "outputId": "83bfec76-e606-4429-8766-ae3bfc671fc9"
      },
      "source": [
        "# Plot the metric charts \n",
        "fig, axes = plt.subplots(nrow, ncol)\n",
        "plt.subplots_adjust(wspace = 0.2, hspace = 0.5 )\n",
        "for r in range(nrow):\n",
        "    for c in range(ncol):\n",
        "        if(count < 5):\n",
        "            df_list[count].plot(ax=axes[r,c], x ='Epoch', y=['SeqGan', 'TextGan', 'CGan'], kind = 'line', title = df_title_list[count], figsize=(20, 10))\n",
        "            count+=1\n",
        "#save metrics to .png for later use in pdf report\n",
        "plt.savefig('results/metric_charts.png')"
      ],
      "execution_count": 55,
      "outputs": [
        {
          "output_type": "display_data",
          "data": {
            "image/png": "[encoded data removed]",
            "text/plain": [
              "<Figure size 1440x720 with 6 Axes>"
            ]
          },
          "metadata": {
            "tags": [],
            "needs_background": "light"
          }
        }
      ]
    },
    {
      "cell_type": "markdown",
      "metadata": {
        "collapsed": false,
        "id": "FZoFeysDQsnw"
      },
      "source": [
        "## Notes\n",
        " This project was a collaborative effort by all team members listed in top of document. Project was developed/run/tested while on video call as a team effort. All parties put forth equal effort in testing, data selection and stripping, as well as understanding content.\n",
        "\n",
        " >**Note:** please refer to Team Project Documentation\\MileStone2\\Stephanie_Jackson_Ravjot_CIS700_M2_Contribution.txt for more contribution details\n",
        "\n",
        "Given the short duration of setup, running, etc there was not sufficient time to truly understand each of the models under the project. Two models from the previous milestone were used as the benchmark for comparison with the three newly incorporated models added with this milestone. However more time would be require for all encompassing tasking to really dive in and understand these models, and to run over longer epochs to see more concrete data results and comparisons. Additionally it should be noted the amount of time it takes to run these models with higher epoch values. Running the full models over and over can help training, however can take hours to complete. Furthermore, the .csv files were not populating. Given more time dedicate to this project, issues may have been able to be resolved"
      ]
    },
    {
      "cell_type": "markdown",
      "metadata": {
        "collapsed": false,
        "id": "zGfiU7ujQsnw"
      },
      "source": [
        "##Reference\n",
        "[1] Geek-Ai. “Texygen by Geek.AI.” GitHub, 2017, github.com/geek-ai/Texygen.\n",
        "\n",
        "[2] Yu, Lantao, et al. “SeqGAN: Sequence Generative Adversarial Nets with Policy Gradient.” ArXiv.org, 25 Aug. 2017, arxiv.org/abs/1609.05473.\n",
        "\n",
        "[3] Zhang, Yizhe, et al. “Adversarial Feature Matching for Text Generation.” ArXiv.org, 18 Nov. 2017, arxiv.org/abs/1706.03850.\n",
        "\n",
        "[4] EA Poem Source.  https://poestories.com/read/valentine"
      ]
    },
    {
      "cell_type": "code",
      "metadata": {
        "pycharm": {
          "name": "#%%\n"
        },
        "id": "9irmoejZQsnw"
      },
      "source": [
        "#PDF/HTML conversion of notebook\n",
        "!apt-get install texlive texlive-xetex texlive-latex-extra pandoc\n",
        "!pip install pypandoc\n",
        "!jupyter nbconvert --to PDF \"main.ipynb\"\n",
        "!jupyter nbconvert --to HTML \"main.ipynb\""
      ],
      "execution_count": null,
      "outputs": []
    },
    {
      "cell_type": "code",
      "metadata": {
        "id": "VXv1qn5CYTcZ"
      },
      "source": [
        "from google.colab import drive\n",
        "drive.mount('/content/drive')"
      ],
      "execution_count": null,
      "outputs": []
    }
  ]
}
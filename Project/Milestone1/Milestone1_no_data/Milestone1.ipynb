{
 "cells": [
  {
   "cell_type": "markdown",
   "source": [
    "#Milestone1\n",
    "Stephanie Eordanidis.\n",
    "Ravjot Sachdev,\n",
    "Jackson Taber\n",
    "\n",
    "Syracuse University : College of Engineering & Computer Science\n",
    "\n",
    "223 Link Hall, Syracuse, NY 13244\n",
    "\n",
    "*sleordan@syr.edu*\n",
    "\n",
    "CIS 700 Machine Learning and Security\n",
    "\n",
    "04/14/2021\n"
   ],
   "metadata": {
    "collapsed": false
   }
  },
  {
   "cell_type": "markdown",
   "source": [
    "##Theme:\n",
    " “Adversarial Text Generation: Adversarial Machine Learning Applications in Text Analysis”"
   ],
   "metadata": {
    "collapsed": false
   }
  },
  {
   "cell_type": "markdown",
   "source": [
    "##Purpose:\n",
    "The purpose of this report is to...."
   ],
   "metadata": {
    "collapsed": false
   }
  },
  {
   "cell_type": "markdown",
   "source": [
    "##Project:"
   ],
   "metadata": {
    "collapsed": false
   }
  },
  {
   "cell_type": "markdown",
   "source": [
    "##(Hard/Soft)ware:\n",
    "**Google Colaboratory**\t\thttps://colab.research.google.com/\n",
    "**GPU**                     Python 3 Google Compute Engine backend\n",
    "**Github**                  https://github.com/eordanis/CIS-700/tree/main/Project/Milestone1/Milestone1_no_data\n"
   ],
   "metadata": {
    "collapsed": false
   }
  },
  {
   "cell_type": "markdown",
   "source": [
    "##Resources:\n",
    "**Original Source Model:** \t\thttps://github.com/msc-acse/acse-9-independent-research-project-hk-97/\n",
    "**Modified Sources Model:** \thttps://github.com/eordanis/CIS-700/tree/main/Project/Milestone1/Milestone1_no_data"
   ],
   "metadata": {
    "collapsed": false
   }
  },
  {
   "cell_type": "markdown",
   "source": [
    "##Data:\n",
    "**Kaggle**                  https://www.kaggle.com/datatattle/covid-19-nlp-text-classification\n",
    "The data for the selected project is setup as follows:\n",
    "\n",
    "...explain data"
   ],
   "metadata": {
    "collapsed": false
   }
  },
  {
   "cell_type": "markdown",
   "source": [
    "##Setup:\n",
    "Due to the heft of processor/gpu usage, it was deemed necessary to run the project in the Google Colaboratory.\n",
    "Original attempt to run was done via Pycharm IDE Professional Edition with Anaconda derived environments,\n",
    "however this proved too great of a strain on the accessible workstation.\n",
    "\n"
   ],
   "metadata": {
    "collapsed": false
   }
  },
  {
   "cell_type": "markdown",
   "source": [
    "###Step 1\n",
    "A new Google Colaboratory workspace was setup, titled “Milestone1”. This workspace was run using the hosted runtime environment. This document is the current document being read.\n",
    "\n",
    "In order to run against provided code base, it was necessary to sync the colab workspace the github repository files as follows\n",
    "\n",
    "```\n",
    "from getpass import getpass\n",
    "import os\n",
    "user = getpass('github user')\n",
    "password = getpass('github password')\n",
    "os.environ['GITHUB_AUTH'] = user + ':' + password\n",
    "\n",
    "!git clone https://$GITHUB_AUTH@github.com/eordanis/CIS-700/\n",
    "```\n",
    "\n",
    "Running this command from the first cell in the workbook syncs the drive to the github repo location of project location"
   ],
   "metadata": {
    "collapsed": false
   }
  },
  {
   "cell_type": "code",
   "execution_count": null,
   "outputs": [],
   "source": [
    "from getpass import getpass\n",
    "import os\n",
    "user = getpass('github user')\n",
    "password = getpass('github password')\n",
    "os.environ['GITHUB_AUTH'] = user + ':' + password\n",
    "\n",
    "!git clone https://$GITHUB_AUTH@github.com/eordanis/CIS-700/"
   ],
   "metadata": {
    "collapsed": false,
    "pycharm": {
     "name": "#%%\n"
    }
   }
  },
  {
   "cell_type": "markdown",
   "source": [
    "###Step 2\n",
    "Now the directory was changed to the folder needed to run the project\n",
    "\n",
    "```\n",
    "        %cd CIS-700/Project/Milestone1/Milestone1_no_data\n",
    "```"
   ],
   "metadata": {
    "collapsed": false
   }
  },
  {
   "cell_type": "code",
   "execution_count": null,
   "outputs": [],
   "source": [
    "%cd CIS-700/Project/Milestone1/Milestone1_no_data"
   ],
   "metadata": {
    "collapsed": false,
    "pycharm": {
     "name": "#%%\n"
    }
   }
  },
  {
   "cell_type": "markdown",
   "source": [
    "###Step 3\n",
    "Now it was necessary to import and download any missing libraries the hosted colaborartoy runtime did not have readily available via the following commands:\n",
    "```\n",
    "         !pip install -r \"requirements.txt\"\n",
    "```\n",
    "Running this command from the next cell in the workbook installed the necessary libraries and at specified versions for the project.\n"
   ],
   "metadata": {
    "collapsed": false
   }
  },
  {
   "cell_type": "code",
   "execution_count": null,
   "outputs": [],
   "source": [
    "!pip install -r \"requirements.txt\""
   ],
   "metadata": {
    "collapsed": false,
    "pycharm": {
     "name": "#%%\n"
    }
   }
  },
  {
   "cell_type": "markdown",
   "source": [
    "###Step 4\n",
    "\n",
    "It is now required to load the necessary modules to run the project.\n",
    "We will import the Following:\n",
    "\n",
    "```\n",
    "from trainer import Trainer\n",
    "from GAN import GAN\n",
    "from DataLoader import DataLoader\n",
    "from DataHandler import DataHandler\n",
    "from utils import create_directories\n",
    "import pandas as pd\n",
    "```\n",
    "\n",
    "These imports pull in our Trainer, GAN, DataLoader, DataHandler, and utils classes necessary for model, generator, and discriminator generation and trainings."
   ],
   "metadata": {
    "collapsed": false
   }
  },
  {
   "cell_type": "code",
   "execution_count": null,
   "outputs": [],
   "source": [
    "from trainer import Trainer\n",
    "from GAN import GAN\n",
    "from DataLoader import DataLoader\n",
    "from DataHandler import DataHandler\n",
    "from utils import create_directories\n",
    "import pandas as pd"
   ],
   "metadata": {
    "collapsed": false,
    "pycharm": {
     "name": "#%%\n"
    }
   }
  },
  {
   "cell_type": "markdown",
   "source": [
    "###Step 5\n",
    "\n",
    "We must now Load and Prepare the Data\n",
    "\n",
    "The requested features and activities are also determined here"
   ],
   "metadata": {
    "collapsed": false
   }
  },
  {
   "cell_type": "code",
   "execution_count": null,
   "outputs": [],
   "source": [
    "train_data = pd.read_csv(\"TextData/coronavirus_tweets_nlp/Corona_NLP_train.csv\")\n",
    "test_data = pd.read_csv(\"TextData/coronavirus_tweets_nlp/Corona_NLP_test.csv\")\n",
    "print(\"---Data is successfully loaded\")\n",
    "handler = DataHandler(train_data, test_data)\n",
    "norm_train = handler.normalise(\"train\")\n",
    "norm_test = handler.normalise(\"test\")\n",
    "\n",
    "print(\"--- Shape of Training Data:\", train_data.shape)\n",
    "print(\"--- Shape of Test Data:\", test_data.shape)\n"
   ],
   "metadata": {
    "collapsed": false,
    "pycharm": {
     "name": "#%%\n"
    }
   }
  },
  {
   "cell_type": "markdown",
   "source": [
    "###Step 6\n",
    "\n",
    "Here, we will be defining the experiment baseline"
   ],
   "metadata": {
    "collapsed": false
   }
  },
  {
   "cell_type": "code",
   "execution_count": null,
   "outputs": [],
   "source": [
    "expt_name = \"test\"\n",
    "\n",
    "create_directories(expt_name)\n",
    "gan_ = GAN(norm_train.shape)\n",
    "trainer_ = Trainer(gan_, expt_name)\n",
    "trainer_.train_gan(epochs=20000, batch_size=128, sample_interval=10, train_data=norm_train)"
   ],
   "metadata": {
    "collapsed": false,
    "pycharm": {
     "name": "#%%\n"
    }
   }
  },
  {
   "cell_type": "markdown",
   "source": [
    "##Process\n"
   ],
   "metadata": {
    "collapsed": false
   }
  },
  {
   "cell_type": "markdown",
   "source": [
    "##Metrics\n"
   ],
   "metadata": {
    "collapsed": false
   }
  },
  {
   "cell_type": "markdown",
   "source": [
    "##Models\n",
    "For this report, the GAN model was run ..."
   ],
   "metadata": {
    "collapsed": false
   }
  },
  {
   "cell_type": "markdown",
   "source": [
    "##Testing\n"
   ],
   "metadata": {
    "collapsed": false
   }
  },
  {
   "cell_type": "markdown",
   "source": [
    "###Data Comparision"
   ],
   "metadata": {
    "collapsed": false
   }
  },
  {
   "cell_type": "markdown",
   "source": [
    "##Notes"
   ],
   "metadata": {
    "collapsed": false
   }
  },
  {
   "cell_type": "markdown",
   "source": [
    "##Reference\n",
    "[1] Git-hub. https://github.com/msc-acse/acse-9-independent-research-project-hk-97/\n",
    "[2] Git-hub. https://github.com/eordanis/CIS-700/tree/main/Project/Milestone1/Milestone1_no_data\n",
    "[3] Kaggle.  https://www.kaggle.com/datatattle/covid-19-nlp-text-classification\n",
    "\n"
   ],
   "metadata": {
    "collapsed": false
   }
  },
  {
   "cell_type": "code",
   "execution_count": null,
   "outputs": [],
   "source": [
    "#PDF/HTML conversion of notebook\n",
    "!apt-get install texlive texlive-xetex texlive-latex-extra pandoc\n",
    "!pip install pypandoc\n",
    "!jupyter nbconvert --to PDF \"Milestone1.ipynb\"\n",
    "!jupyter nbconvert --to HTML \"Milestone1.ipynb\"\n",
    "\n"
   ],
   "metadata": {
    "collapsed": false,
    "pycharm": {
     "name": "#%%\n"
    }
   }
  }
 ],
 "metadata": {
  "kernelspec": {
   "display_name": "Python 3",
   "language": "python",
   "name": "python3"
  },
  "language_info": {
   "codemirror_mode": {
    "name": "ipython",
    "version": 2
   },
   "file_extension": ".py",
   "mimetype": "text/x-python",
   "name": "python",
   "nbconvert_exporter": "python",
   "pygments_lexer": "ipython2",
   "version": "2.7.6"
  }
 },
 "nbformat": 4,
 "nbformat_minor": 0
}
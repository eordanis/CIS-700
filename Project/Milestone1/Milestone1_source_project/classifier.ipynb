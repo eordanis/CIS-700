{
  "nbformat": 4,
  "nbformat_minor": 0,
  "metadata": {
    "colab": {
      "name": "main.ipynb",
      "version": "0.3.2",
      "provenance": [],
      "toc_visible": true,
      "include_colab_link": true
    },
    "kernelspec": {
      "name": "python3",
      "display_name": "Python 3"
    },
    "accelerator": "GPU"
  },
  "cells": [
    {
      "cell_type": "markdown",
      "metadata": {
        "id": "view-in-github",
        "colab_type": "text"
      },
      "source": [
        "<a href=\"https://colab.research.google.com/github/h-khandahari/sensory-gan/blob/master/classifier.ipynb\" target=\"_parent\"><img src=\"https://colab.research.google.com/assets/colab-badge.svg\" alt=\"Open In Colab\"/></a>"
      ]
    },
    {
      "cell_type": "markdown",
      "metadata": {
        "id": "If0QYARwaT1p",
        "colab_type": "text"
      },
      "source": [
        "## Syncing GitHub"
      ]
    },
    {
      "cell_type": "code",
      "metadata": {
        "id": "64Q2dfwbZN5f",
        "colab_type": "code",
        "outputId": "eb841cac-8a33-4595-a328-d48f224b1d74",
        "colab": {
          "base_uri": "https://localhost:8080/",
          "height": 187
        }
      },
      "source": [
        "from getpass import getpass\n",
        "import os\n",
        "user = getpass('github user')\n",
        "password = getpass('github password')\n",
        "os.environ['GITHUB_AUTH'] = user + ':' + password\n",
        "\n",
        "!git clone https://$GITHUB_AUTH@github.com/h-khandahari/sensory-gan/\n",
        "!cd sensory-gan/"
      ],
      "execution_count": 1,
      "outputs": [
        {
          "output_type": "stream",
          "text": [
            "github user··········\n",
            "github password··········\n",
            "Cloning into 'sensory-gan'...\n",
            "remote: Enumerating objects: 12, done.\u001b[K\n",
            "remote: Counting objects: 100% (12/12), done.\u001b[K\n",
            "remote: Compressing objects: 100% (10/10), done.\u001b[K\n",
            "remote: Total 470 (delta 6), reused 4 (delta 2), pack-reused 458\u001b[K\n",
            "Receiving objects: 100% (470/470), 69.98 MiB | 11.04 MiB/s, done.\n",
            "Resolving deltas: 100% (43/43), done.\n",
            "Checking out files: 100% (372/372), done.\n"
          ],
          "name": "stdout"
        }
      ]
    },
    {
      "cell_type": "code",
      "metadata": {
        "id": "k3N8W3yTUXrg",
        "colab_type": "code",
        "colab": {
          "base_uri": "https://localhost:8080/",
          "height": 34
        },
        "outputId": "4cf403bb-9c8d-489e-d361-c38f1613a5bf"
      },
      "source": [
        "cd sensory-gan"
      ],
      "execution_count": 2,
      "outputs": [
        {
          "output_type": "stream",
          "text": [
            "/content/sensory-gan\n"
          ],
          "name": "stdout"
        }
      ]
    },
    {
      "cell_type": "code",
      "metadata": {
        "id": "g4xBRdhvUoro",
        "colab_type": "code",
        "colab": {}
      },
      "source": [
        "ls"
      ],
      "execution_count": 0,
      "outputs": []
    },
    {
      "cell_type": "code",
      "metadata": {
        "id": "FU5Qtd9f3I98",
        "colab_type": "code",
        "outputId": "8826a885-9a8f-43d5-b35a-c219e5f4e31d",
        "colab": {
          "base_uri": "https://localhost:8080/",
          "height": 34
        }
      },
      "source": [
        "from trainer import Trainer\n",
        "from gan import GAN\n",
        "from DataLoader import DataLoader\n",
        "from DataHandler import DataHandler\n",
        "from utils import create_directories"
      ],
      "execution_count": 3,
      "outputs": [
        {
          "output_type": "stream",
          "text": [
            "Using TensorFlow backend.\n"
          ],
          "name": "stderr"
        }
      ]
    },
    {
      "cell_type": "code",
      "metadata": {
        "id": "oSiHiGPiWTVp",
        "colab_type": "code",
        "colab": {
          "base_uri": "https://localhost:8080/",
          "height": 1000
        },
        "outputId": "c00e9af3-ed22-4a68-ff5c-047f227ee1b3"
      },
      "source": [
        "!cat DataLoader.py"
      ],
      "execution_count": 4,
      "outputs": [
        {
          "output_type": "stream",
          "text": [
            "import numpy as np\n",
            "import matplotlib.pyplot as plt\n",
            "import pandas as pd\n",
            "\n",
            "class DataLoader:\n",
            "\n",
            "    def __init__(self):\n",
            "      pass\n",
            "\n",
            "    def get_ds_infos(self):\n",
            "      ## 0:Code, 1:Weight, 2:Height, 3:Age, 4:Gender\n",
            "      np.save(\"MotionSense/path2.npy\", np.array([1]))\n",
            "      dss = np.genfromtxt(\"MotionSense\\\\data_subjects_info.csv\",delimiter=',')\n",
            "      dss = dss[1:]\n",
            "      print(\"----> Data subjects information is imported.\")\n",
            "      return dss\n",
            "\n",
            "    def extract_from_csv(self, features, activities, verbose):\n",
            "\n",
            "\n",
            "        num_features = len(features)\n",
            "        num_act_labels = len(activities)\n",
            "        dataset_columns = num_features+num_act_labels\n",
            "\n",
            "        label_codes = {\"dws\":num_features, \"ups\":num_features+1, \"wlk\":num_features+2, \"jog\":num_features+3, \"sit\":num_features+4, \"std\":num_features+5}\n",
            "        trial_codes = {\"dws\":[1,2,11], \"ups\":[3,4,12], \"wlk\":[7,8,15], \"jog\":[9,16], \"sit\":[5, 13], \"std\":[6,14]}    \n",
            "\n",
            "        new = {}\n",
            "\n",
            "        for requested in trial_codes:\n",
            "          if requested in activities:\n",
            "            new[requested] = trial_codes[requested]\n",
            "\n",
            "        trial_codes = new\n",
            "        label_codes = {}\n",
            "        count = 0\n",
            "        for key in trial_codes:\n",
            "          label_codes[key] = num_features + count\n",
            "          count +=1\n",
            "\n",
            "        if verbose == True:\n",
            "            print(label_codes)\n",
            "            print(trial_codes)\n",
            "            \n",
            "        ds_list = self.get_ds_infos()\n",
            "        \n",
            "        train_data = np.zeros((0,dataset_columns))\n",
            "        test_data = np.zeros((0,dataset_columns))\n",
            "        \n",
            "        for i, sub_id in enumerate(ds_list[:,0]):\n",
            "            for j, act in enumerate(trial_codes):\n",
            "                for trial in trial_codes[act]:\n",
            "                    fname = 'MotionSense\\\\A_DeviceMotion_data\\\\'+act+'_'+str(trial)+'\\\\sub_'+str(int(sub_id))+'.csv'\n",
            "                    if verbose == True:\n",
            "                        print(\"Loading: \", fname)\n",
            "                    raw_data = pd.read_csv(fname)\n",
            "                    raw_data = raw_data.drop(['Unnamed: 0'], axis=1)\n",
            "                    raw_data = raw_data[features]\n",
            "                    unlabel_data = raw_data.values\n",
            "\n",
            "                    label_data = np.zeros((len(unlabel_data), dataset_columns))\n",
            "                    label_data[:,:-(num_act_labels )] = unlabel_data\n",
            "                    label_data[:,label_codes[act]] = 1\n",
            "                    if trial > 10:\n",
            "                        test_data = np.append(test_data, label_data, axis = 0)\n",
            "                    else:    \n",
            "                        train_data = np.append(train_data, label_data, axis = 0)\n",
            "\n",
            "        return train_data , test_data, num_features, num_act_labels\n",
            "\n",
            "      \n",
            "      \n",
            "    def time_series_to_section(self, dataset, num_act_labels, sliding_window_size, step_size_of_sliding_window):\n",
            "      data = dataset[: , 0:-(num_act_labels)]\n",
            "      act_labels = dataset[: , -(num_act_labels):]\n",
            "\n",
            "      data = data.T\n",
            "\n",
            "      size_features = data.shape[0]\n",
            "      size_data = data.shape[1]\n",
            "      \n",
            "      number_of_secs = round(((size_data - sliding_window_size)/step_size_of_sliding_window))\n",
            "\n",
            "      secs_data = np.zeros((number_of_secs , size_features , sliding_window_size ))\n",
            "      act_secs_labels = np.zeros((number_of_secs, num_act_labels))\n",
            "\n",
            "      k=0    \n",
            "      for i in range(0 ,(size_data)-sliding_window_size  , step_size_of_sliding_window):\n",
            "          j = i // step_size_of_sliding_window\n",
            "          if(j>=number_of_secs):\n",
            "              break\n",
            "          if(not (act_labels[i] == act_labels[i+sliding_window_size-1]).all()): \n",
            "              continue    \n",
            "          secs_data[k] = data[0:size_features, i:i+sliding_window_size]\n",
            "          act_secs_labels[k] = act_labels[i].astype(int)\n",
            "          k = k+1\n",
            "      secs_data = secs_data[0:k]\n",
            "      secs_data = np.expand_dims(secs_data, axis=3)\n",
            "      act_secs_labels = act_secs_labels[0:k]\n",
            "\n",
            "      return secs_data, act_secs_labels\n",
            "\n",
            "\n",
            "\n",
            "      \n",
            "  \n"
          ],
          "name": "stdout"
        }
      ]
    },
    {
      "cell_type": "code",
      "metadata": {
        "id": "krUSI5bSVXPF",
        "colab_type": "code",
        "colab": {}
      },
      "source": [
        "cd MotionSense/"
      ],
      "execution_count": 0,
      "outputs": []
    },
    {
      "cell_type": "code",
      "metadata": {
        "id": "z3DHB5Rl3dML",
        "colab_type": "code",
        "colab": {
          "base_uri": "https://localhost:8080/",
          "height": 952
        },
        "outputId": "84526688-9ebe-4794-cac4-30fe803f98c4"
      },
      "source": [
        "features = [\"userAcceleration.x\", \"userAcceleration.y\", \"userAcceleration.z\"]\n",
        "act_labels = [\"jog\"]#,\"ups\",\"wlk\", \"jog\", \"sit\", \"std\"]\n",
        "\n",
        "\n",
        "train_loader = DataLoader()\n",
        "train_ts, test_ts,num_features, num_act_labels = train_loader.extract_from_csv(features, act_labels, verbose=True)\n",
        "\n",
        "\n",
        "train_data, act_train_labels = train_loader.time_series_to_section(train_ts.copy(),\n",
        "                                                                   num_act_labels,\n",
        "                                                                   sliding_window_size=200,\n",
        "                                                                   step_size_of_sliding_window=10)\n",
        "\n",
        "test_data, act_test_labels = train_loader.time_series_to_section(test_ts.copy(),\n",
        "                                                                 num_act_labels,\n",
        "                                                                 sliding_window_size=200,\n",
        "                                                                 step_size_of_sliding_window=10)\n",
        "\n",
        "print(\"---Data is successfully loaded\")\n",
        "handler = DataHandler(train_data, test_data)\n",
        "norm_train = handler.normalise(\"train\")\n",
        "norm_test = handler.normalise(\"test\")\n",
        "\n",
        "print(\"--- Shape of Training Data:\", train_data.shape)\n",
        "print(\"--- Shape of Test Data:\", test_data.shape)\n"
      ],
      "execution_count": 4,
      "outputs": [
        {
          "output_type": "stream",
          "text": [
            "{'jog': 3}\n",
            "{'jog': [9, 16]}\n",
            "----> Data subjects information is imported.\n",
            "Loading:  MotionSense/A_DeviceMotion_data/jog_9/sub_1.csv\n",
            "Loading:  MotionSense/A_DeviceMotion_data/jog_16/sub_1.csv\n",
            "Loading:  MotionSense/A_DeviceMotion_data/jog_9/sub_2.csv\n",
            "Loading:  MotionSense/A_DeviceMotion_data/jog_16/sub_2.csv\n",
            "Loading:  MotionSense/A_DeviceMotion_data/jog_9/sub_3.csv\n",
            "Loading:  MotionSense/A_DeviceMotion_data/jog_16/sub_3.csv\n",
            "Loading:  MotionSense/A_DeviceMotion_data/jog_9/sub_4.csv\n",
            "Loading:  MotionSense/A_DeviceMotion_data/jog_16/sub_4.csv\n",
            "Loading:  MotionSense/A_DeviceMotion_data/jog_9/sub_5.csv\n",
            "Loading:  MotionSense/A_DeviceMotion_data/jog_16/sub_5.csv\n",
            "Loading:  MotionSense/A_DeviceMotion_data/jog_9/sub_6.csv\n",
            "Loading:  MotionSense/A_DeviceMotion_data/jog_16/sub_6.csv\n",
            "Loading:  MotionSense/A_DeviceMotion_data/jog_9/sub_7.csv\n",
            "Loading:  MotionSense/A_DeviceMotion_data/jog_16/sub_7.csv\n",
            "Loading:  MotionSense/A_DeviceMotion_data/jog_9/sub_8.csv\n",
            "Loading:  MotionSense/A_DeviceMotion_data/jog_16/sub_8.csv\n",
            "Loading:  MotionSense/A_DeviceMotion_data/jog_9/sub_9.csv\n",
            "Loading:  MotionSense/A_DeviceMotion_data/jog_16/sub_9.csv\n",
            "Loading:  MotionSense/A_DeviceMotion_data/jog_9/sub_10.csv\n",
            "Loading:  MotionSense/A_DeviceMotion_data/jog_16/sub_10.csv\n",
            "Loading:  MotionSense/A_DeviceMotion_data/jog_9/sub_11.csv\n",
            "Loading:  MotionSense/A_DeviceMotion_data/jog_16/sub_11.csv\n",
            "Loading:  MotionSense/A_DeviceMotion_data/jog_9/sub_12.csv\n",
            "Loading:  MotionSense/A_DeviceMotion_data/jog_16/sub_12.csv\n",
            "Loading:  MotionSense/A_DeviceMotion_data/jog_9/sub_13.csv\n",
            "Loading:  MotionSense/A_DeviceMotion_data/jog_16/sub_13.csv\n",
            "Loading:  MotionSense/A_DeviceMotion_data/jog_9/sub_14.csv\n",
            "Loading:  MotionSense/A_DeviceMotion_data/jog_16/sub_14.csv\n",
            "Loading:  MotionSense/A_DeviceMotion_data/jog_9/sub_15.csv\n",
            "Loading:  MotionSense/A_DeviceMotion_data/jog_16/sub_15.csv\n",
            "Loading:  MotionSense/A_DeviceMotion_data/jog_9/sub_16.csv\n",
            "Loading:  MotionSense/A_DeviceMotion_data/jog_16/sub_16.csv\n",
            "Loading:  MotionSense/A_DeviceMotion_data/jog_9/sub_17.csv\n",
            "Loading:  MotionSense/A_DeviceMotion_data/jog_16/sub_17.csv\n",
            "Loading:  MotionSense/A_DeviceMotion_data/jog_9/sub_18.csv\n",
            "Loading:  MotionSense/A_DeviceMotion_data/jog_16/sub_18.csv\n",
            "Loading:  MotionSense/A_DeviceMotion_data/jog_9/sub_19.csv\n",
            "Loading:  MotionSense/A_DeviceMotion_data/jog_16/sub_19.csv\n",
            "Loading:  MotionSense/A_DeviceMotion_data/jog_9/sub_20.csv\n",
            "Loading:  MotionSense/A_DeviceMotion_data/jog_16/sub_20.csv\n",
            "Loading:  MotionSense/A_DeviceMotion_data/jog_9/sub_21.csv\n",
            "Loading:  MotionSense/A_DeviceMotion_data/jog_16/sub_21.csv\n",
            "Loading:  MotionSense/A_DeviceMotion_data/jog_9/sub_22.csv\n",
            "Loading:  MotionSense/A_DeviceMotion_data/jog_16/sub_22.csv\n",
            "Loading:  MotionSense/A_DeviceMotion_data/jog_9/sub_23.csv\n",
            "Loading:  MotionSense/A_DeviceMotion_data/jog_16/sub_23.csv\n",
            "Loading:  MotionSense/A_DeviceMotion_data/jog_9/sub_24.csv\n",
            "Loading:  MotionSense/A_DeviceMotion_data/jog_16/sub_24.csv\n",
            "---Data is successfully loaded\n",
            "training_data\n",
            "--- Shape of Training Data: (10413, 3, 200, 1)\n",
            "--- Shape of Test Data: (2970, 3, 200, 1)\n"
          ],
          "name": "stdout"
        }
      ]
    },
    {
      "cell_type": "markdown",
      "metadata": {
        "id": "kWwga2hW66RV",
        "colab_type": "text"
      },
      "source": [
        ""
      ]
    },
    {
      "cell_type": "code",
      "metadata": {
        "id": "ZAIPpIWI4Ssv",
        "colab_type": "code",
        "colab": {}
      },
      "source": [
        "expt_name = \"frijog\"\n",
        "\n",
        "create_directories(expt_name)\n",
        "gan_ = GAN(norm_train.shape)\n",
        "trainer_ = Trainer(gan_, expt_name)\n",
        "trainer_.train_gan(epochs=10000, batch_size=128, sample_interval=10, train_data=norm_train)"
      ],
      "execution_count": 0,
      "outputs": []
    }
  ]
}